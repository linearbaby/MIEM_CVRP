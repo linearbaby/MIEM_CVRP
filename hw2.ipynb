{
 "cells": [
  {
   "cell_type": "code",
   "execution_count": 2,
   "metadata": {},
   "outputs": [],
   "source": [
    "from collections import defaultdict\n",
    "from attrs import define\n",
    "import numpy as np\n",
    "from tqdm import tqdm"
   ]
  },
  {
   "cell_type": "code",
   "execution_count": 204,
   "metadata": {},
   "outputs": [],
   "source": [
    "def load_data(\n",
    "    path,\n",
    "):\n",
    "    with open(path, \"r\") as f:\n",
    "        lines = f.readlines()\n",
    "        dimension = int(lines[3].split(\":\")[1])\n",
    "        capacity = int(lines[5].split(\":\")[1])\n",
    "        idx = 7\n",
    "        graph = [None] * dimension\n",
    "        while len(lines[idx].strip().split(\" \")) == 3:\n",
    "            node, x, y = lines[idx].strip().split(\" \")\n",
    "            graph[int(node) - 1] = (int(x), int(y))\n",
    "            idx += 1\n",
    "\n",
    "        graph = np.array(graph)\n",
    "\n",
    "        idx += 1\n",
    "        needs = np.zeros(dimension, dtype=np.int32)\n",
    "        while len(lines[idx].strip().split(\" \")) == 2:\n",
    "            node, cap = lines[idx].strip().split(\" \")\n",
    "            needs[int(node) - 1] = int(cap)\n",
    "            idx += 1\n",
    "\n",
    "    return graph, needs, dimension, capacity\n",
    "graph, needs, dimension, capacity = load_data(\"data/E/E-n23-k3.vrp\")"
   ]
  },
  {
   "cell_type": "code",
   "execution_count": 18,
   "metadata": {},
   "outputs": [],
   "source": [
    "def distance(coords):\n",
    "    return np.linalg.norm(coords, axis=-1)"
   ]
  },
  {
   "cell_type": "code",
   "execution_count": 161,
   "metadata": {},
   "outputs": [],
   "source": [
    "# Calculate the euclidian distance in n-space of the route r traversing cities c, ending at the path start.\n",
    "path_distance = lambda r,c: np.sum([np.linalg.norm(c[r[p]]-c[r[p-1]]) for p in range(len(r))])\n",
    "# Reverse the order of all elements from element i to element k in array r.\n",
    "two_opt_swap = lambda r,i,k: np.concatenate((r[0:i],r[k:-len(r)+i-1:-1],r[k+1:len(r)]))\n",
    "\n",
    "def TSP_loop(\n",
    "    graph,\n",
    "    path,\n",
    "    initial_node = 0,\n",
    "    improvement_threshold=0.001\n",
    "):\n",
    "    cities = np.vstack((graph[path], graph[0]))\n",
    "\n",
    "    route = np.arange(cities.shape[0]) # Make an array of row numbers corresponding to cities.\n",
    "    improvement_factor = 1 # Initialize the improvement factor.\n",
    "    best_distance = path_distance(route,cities) # Calculate the distance of the initial path.\n",
    "    while improvement_factor > improvement_threshold: # If the route is still improving, keep going!\n",
    "        distance_to_beat = best_distance # Record the distance at the beginning of the loop.\n",
    "        for swap_first in range(1,len(route)-2): # From each city except the first and last,\n",
    "            for swap_last in range(swap_first+1,len(route)): # to each of the cities following,\n",
    "                new_route = two_opt_swap(route,swap_first,swap_last) # try reversing the order of these cities\n",
    "                new_distance = path_distance(new_route,cities) # and check the total distance with this modification.\n",
    "                if new_distance < best_distance: # If the path distance is an improvement,\n",
    "                    route = new_route # make this the accepted best route\n",
    "                    best_distance = new_distance # and update the distance corresponding to this route.\n",
    "        improvement_factor = 1 - best_distance/distance_to_beat # Calculate how much the route has improved.\n",
    "    return path[route[route != cities.shape[0] -1]] # When the route is no longer improving substantially, stop searching and return the route.\n",
    "\n",
    "# route = np.array([1, 2, 3, 4, 22, 31], dtype=np.int32)\n",
    "# print(calc_path_metric(graph, route))\n",
    "# route = TSP_loop(graph, np.array([1, 2, 3, 4, 22, 31]), 0.001)\n",
    "# print(calc_path_metric(graph, route))\n",
    "\n",
    "# output: \n",
    "# 343.1853049674675\n",
    "# 281.23099883169414"
   ]
  },
  {
   "cell_type": "code",
   "execution_count": 162,
   "metadata": {},
   "outputs": [],
   "source": [
    "def random_construct_loop(\n",
    "    graph, \n",
    "    needs, \n",
    "    nodes_pool, # pool клиентов еще не обслуженных\n",
    "    capacity,\n",
    "    initial_node = 0,\n",
    "):\n",
    "    assert initial_node not in nodes_pool\n",
    "    nodes_pool = np.array(nodes_pool)\n",
    "    np.random.shuffle(nodes_pool)\n",
    "\n",
    "    current_capacity = 0\n",
    "    # print(needs.shape[0])\n",
    "    needs = np.cumsum(needs[nodes_pool]) < capacity\n",
    "    return TSP_loop(graph, nodes_pool[needs])"
   ]
  },
  {
   "cell_type": "code",
   "execution_count": 163,
   "metadata": {},
   "outputs": [],
   "source": [
    "def construct_gene(\n",
    "    graph, \n",
    "    needs, \n",
    "    capacity,\n",
    "    initial_node = 0,\n",
    "    dimension = None,\n",
    "    construct_loop = random_construct_loop,\n",
    "): \n",
    "    if dimension is None:\n",
    "        dimension = graph.shape[0]\n",
    "    nodes_pool = np.arange(1, dimension)\n",
    "    gene = []\n",
    "    while nodes_pool.shape[0] != 0:\n",
    "        gene.append(construct_loop(graph, needs, nodes_pool, capacity, initial_node))\n",
    "        nodes_pool = nodes_pool[~np.in1d(nodes_pool,gene[-1])]\n",
    "    return gene"
   ]
  },
  {
   "cell_type": "code",
   "execution_count": 164,
   "metadata": {},
   "outputs": [],
   "source": [
    "def random_mutation(\n",
    "    gene, \n",
    "    graph, \n",
    "    needs, \n",
    "    capacity,\n",
    "    alpha=0.8,\n",
    "    initial_node = 0,\n",
    "    dimension = None,\n",
    "    construct_loop = random_construct_loop,\n",
    "):\n",
    "    fraction = alpha # в контексте данного подхода к мутации - \n",
    "    # альфа это часть гена, которая пересоберется заного\n",
    "\n",
    "    # fully recreate part of gene\n",
    "    # количество изменяемых генов семплируем из \n",
    "    # експоненциального распределения\n",
    "    # с минимум 2 пермутациями\n",
    "    p = alpha * np.exp(-alpha * np.arange(len(gene) - 2))\n",
    "    p = p / p.sum()\n",
    "    size_recr = np.random.choice(len(gene) - 2, size=1, p=p)[0] + 2\n",
    "\n",
    "    # size_recr = int(fraction * len(gene))\n",
    "    # p = np.exp(-np.arange(len(gene) - size_recr))\n",
    "    # p[0] = 1 - p.sum()\n",
    "    # size_recr = np.random.choice(np.arange(size_recr, len(gene)), size=1, p=p)\n",
    "    # print(size_recr, len(gene))\n",
    "    # size_recr = size_recr if size_recr > 1 else 2\n",
    "\n",
    "    genes_reassemble = np.random.choice(len(gene), replace=False, size=size_recr)\n",
    "    nodes_pool = np.hstack([gene[gr] for gr in genes_reassemble])\n",
    "    gene = [gene[gr] for gr in range(len(gene)) if gr not in genes_reassemble]\n",
    "    while nodes_pool.shape[0] != 0:\n",
    "        gene.append(construct_loop(graph, needs, nodes_pool, capacity, initial_node))\n",
    "        nodes_pool = nodes_pool[~np.in1d(nodes_pool,gene[-1])]\n",
    "    return gene"
   ]
  },
  {
   "cell_type": "code",
   "execution_count": 165,
   "metadata": {},
   "outputs": [],
   "source": [
    "def random_crossingover(\n",
    "    gene1, \n",
    "    gene2,\n",
    "    graph,\n",
    "    dimension,\n",
    "    capacity,\n",
    "    needs,\n",
    "    initial_node = 0,\n",
    "    construct_loop = random_construct_loop,\n",
    "):\n",
    "    # оба гена вносят равный вклад, и остаток - случайно заполняется\n",
    "    nodes_pool = np.arange(1, dimension)\n",
    "    new_gene = []\n",
    "    idxs = [0, 0]\n",
    "    merging = 0\n",
    "    genes = [gene1, gene2]\n",
    "    while idxs[0] < len(gene1) and idxs[1] < len(gene2):\n",
    "        if np.in1d(genes[merging][idxs[merging]], nodes_pool).all():\n",
    "            new_gene.append(genes[merging][idxs[merging]])\n",
    "            nodes_pool = nodes_pool[~np.in1d(nodes_pool,new_gene[-1])]\n",
    "            idxs[merging] += 1\n",
    "            merging = 1 if merging == 0 else 0\n",
    "        else:\n",
    "            idxs[merging] += 1\n",
    "    \n",
    "    merging = 1 if merging == 0 else 0\n",
    "    while idxs[merging] < len(genes[merging]):\n",
    "        if np.in1d(genes[merging][idxs[merging]], nodes_pool).all():\n",
    "            new_gene.append(genes[merging][idxs[merging]])\n",
    "            nodes_pool = nodes_pool[~np.in1d(nodes_pool,new_gene[-1])]\n",
    "        idxs[merging] += 1\n",
    "\n",
    "    while nodes_pool.shape[0] != 0:\n",
    "        new_gene.append(construct_loop(graph, needs, nodes_pool, capacity, initial_node))\n",
    "        nodes_pool = nodes_pool[~np.in1d(nodes_pool, new_gene[-1])]\n",
    "    return new_gene"
   ]
  },
  {
   "cell_type": "code",
   "execution_count": 166,
   "metadata": {},
   "outputs": [
    {
     "data": {
      "text/plain": [
       "[array([16, 25,  9, 19,  4, 24]),\n",
       " array([32, 27, 29, 26,  5, 39]),\n",
       " array([33, 41, 21,  3,  1]),\n",
       " array([ 2, 17, 12, 13, 42]),\n",
       " array([44, 35, 28, 30, 34, 20, 40]),\n",
       " array([14, 10, 31, 38,  7]),\n",
       " array([43, 11, 36,  6, 18, 15, 23, 37,  8, 22])]"
      ]
     },
     "execution_count": 166,
     "metadata": {},
     "output_type": "execute_result"
    }
   ],
   "source": [
    "gene1 = construct_gene(\n",
    "    graph, \n",
    "    needs, \n",
    "    capacity,\n",
    ")\n",
    "gene2 = construct_gene(\n",
    "    graph, \n",
    "    needs, \n",
    "    capacity,\n",
    ")\n",
    "\n",
    "res = random_crossingover(\n",
    "    gene1, \n",
    "    gene2,\n",
    "    graph,\n",
    "    dimension,\n",
    "    capacity,\n",
    "    needs,\n",
    ")\n",
    "\n",
    "res"
   ]
  },
  {
   "cell_type": "code",
   "execution_count": 167,
   "metadata": {},
   "outputs": [],
   "source": [
    "def calc_path_metric(\n",
    "    graph, \n",
    "    path_nodes,\n",
    "    initial_node = 0,\n",
    "):\n",
    "    assert initial_node not in path_nodes\n",
    "    path_distance = distance(graph[path_nodes[0]] - graph[initial_node]) + \\\n",
    "               distance(graph[path_nodes[-1]] - graph[initial_node])\n",
    "    path_distance += np.sum(\n",
    "        np.sqrt(\n",
    "            np.sum(\n",
    "                np.square(\n",
    "                    graph[path_nodes[:-1]] - graph[path_nodes[1:]]\n",
    "                ), axis=1\n",
    "            )\n",
    "        )\n",
    "    )\n",
    "    return path_distance\n",
    "\n",
    "def calc_gene_metric(\n",
    "    graph,\n",
    "    gene, # array of paths\n",
    "    initial_node = 0,\n",
    "):\n",
    "    gene_metric = 0\n",
    "    for path in gene:\n",
    "        gene_metric += calc_path_metric(graph, path, initial_node)\n",
    "    return gene_metric\n"
   ]
  },
  {
   "cell_type": "code",
   "execution_count": 168,
   "metadata": {},
   "outputs": [],
   "source": [
    "def sampling_selection(\n",
    "    graph,\n",
    "    population,\n",
    "    sample_size,\n",
    "    initial_node = 0,\n",
    "    temperature = 0.7,\n",
    "    max_fitness_scale = 30,\n",
    "): \n",
    "    fitness_vector = np.array([calc_gene_metric(graph, gene, initial_node=initial_node) for gene in population])\n",
    "    fitness_vector_probs = fitness_vector - fitness_vector.min() + 1 # чтобы / 0 не было\n",
    "    fitness_vector_probs = - fitness_vector_probs / fitness_vector_probs.max() * max_fitness_scale\n",
    "    # fitness_vector_probs = 1 / fitness_vector_probs\n",
    "    fitness_vector_probs = np.exp(fitness_vector_probs / temperature)\n",
    "    fitness_vector_probs = fitness_vector_probs / fitness_vector_probs.sum()\n",
    "    selection = np.random.choice(fitness_vector.shape[0], size=int(sample_size * len(population)), p=fitness_vector_probs)\n",
    "    return [population[sel] for sel in selection], fitness_vector[selection]"
   ]
  },
  {
   "cell_type": "code",
   "execution_count": 169,
   "metadata": {},
   "outputs": [],
   "source": [
    "def cross_population(\n",
    "    graph,\n",
    "    population,\n",
    "    new_population_size,\n",
    "    fitness_vector,\n",
    "    dimension,\n",
    "    capacity,\n",
    "    needs,\n",
    "    initial_node = 0,\n",
    "    temperature = 0.7,\n",
    "    construct_loop = random_construct_loop,\n",
    "    cross_function = random_crossingover,\n",
    "    max_fitness_scale = 30,\n",
    "):\n",
    "    fitness_vector_probs = fitness_vector - fitness_vector.min() + 1 # чтобы / 0 не было\n",
    "    fitness_vector_probs = - fitness_vector_probs / fitness_vector_probs.max() * max_fitness_scale\n",
    "    # fitness_vector_probs = 1 / fitness_vector_probs\n",
    "    fitness_vector_probs = np.exp(fitness_vector_probs / temperature)\n",
    "    fitness_vector_probs = fitness_vector_probs / fitness_vector_probs.sum()\n",
    "    # print(np.partition(fitness_vector_probs, len(population) - 10)[len(population) - 10:])\n",
    "    population_income = []\n",
    "    while len(population_income) < new_population_size - len(population) :\n",
    "        cross_genes_idx = np.random.choice(len(population), size=2, replace=False, p=fitness_vector_probs)\n",
    "        population_income.append(cross_function(\n",
    "            population[cross_genes_idx[0]],\n",
    "            population[cross_genes_idx[1]],\n",
    "            graph,\n",
    "            dimension,\n",
    "            capacity,\n",
    "            needs,\n",
    "            initial_node = 0,\n",
    "            construct_loop = construct_loop,\n",
    "        ))\n",
    "    return population + population_income"
   ]
  },
  {
   "cell_type": "code",
   "execution_count": 195,
   "metadata": {},
   "outputs": [],
   "source": [
    "def greedy_loop(\n",
    "    graph, \n",
    "    needs, \n",
    "    nodes_pool, # pool клиентов еще не обслуженных\n",
    "    capacity,\n",
    "    proximity_metric,\n",
    "    initial_node = 0,\n",
    "    temperature = 0.5\n",
    "):\n",
    "    proximity_metric = proximity_metric[nodes_pool]\n",
    "    proximity_metric = proximity_metric / proximity_metric.max() * 40\n",
    "    proximity_metric = np.exp(proximity_metric / temperature)\n",
    "    proximity_metric = proximity_metric / proximity_metric.sum()\n",
    "    node_optimize = np.random.choice(nodes_pool, size=1, p=proximity_metric)[0]\n",
    "    initial_hub = graph[initial_node] - graph[node_optimize]\n",
    "    distances = distance(graph[nodes_pool] - initial_hub)\n",
    "    cur_cap = needs[node_optimize]\n",
    "    path = [node_optimize]\n",
    "    sorted_dist = np.argsort(distances)\n",
    "    for node in nodes_pool[sorted_dist]:\n",
    "        if node != node_optimize:\n",
    "            if cur_cap + needs[node] < capacity:\n",
    "                cur_cap += needs[node]\n",
    "                path.append(node)\n",
    "\n",
    "    return TSP_loop(graph, np.array(path))\n",
    "\n",
    "def population_initialization(\n",
    "    graph, \n",
    "    needs,\n",
    "    pop_size,\n",
    "    dimension,\n",
    "    capacity,\n",
    "    initial_node = 0,\n",
    "):\n",
    "    # Можно разумно инициализировать популяцию\n",
    "    population = []\n",
    "    client_proximity_metric = distance(graph - graph[initial_node]) * needs\n",
    "    for _ in range(pop_size):\n",
    "        nodes_pool = np.arange(1, dimension)\n",
    "        gene = []\n",
    "        while nodes_pool.shape[0] != 0:\n",
    "            gene.append(\n",
    "                greedy_loop(\n",
    "                    graph, \n",
    "                    needs, \n",
    "                    nodes_pool, # pool клиентов еще не обслуженных\n",
    "                    capacity,\n",
    "                    client_proximity_metric,\n",
    "                    initial_node = initial_node,\n",
    "                )\n",
    "            )\n",
    "            nodes_pool = nodes_pool[~np.in1d(nodes_pool,gene[-1])]\n",
    "        population.append(gene)\n",
    "\n",
    "    return population"
   ]
  },
  {
   "cell_type": "code",
   "execution_count": 205,
   "metadata": {},
   "outputs": [],
   "source": [
    "from tqdm import tqdm\n",
    "\n",
    "def calc_best_solution(\n",
    "    data_path = \"data/B/B-n31-k5.vrp\",\n",
    "    population_size = 100,\n",
    "    evolution_steps = 100,\n",
    "    mutation_factor = 0.2,\n",
    "    dieback_rate = 0.8,\n",
    "    temperature = 0.2,\n",
    "    crossingover = random_crossingover,\n",
    "    construct_loop = random_construct_loop,\n",
    "    mutation = random_mutation,\n",
    "    use_tqdm=False,\n",
    "):\n",
    "    graph, needs, dimension, capacity = load_data(data_path)\n",
    "\n",
    "    # generate population\n",
    "    population = population_initialization(\n",
    "        graph, \n",
    "        needs,\n",
    "        population_size,\n",
    "        dimension,\n",
    "        capacity,\n",
    "        initial_node = 0,\n",
    "    )\n",
    "    best_solution = (population[0], calc_gene_metric(graph, population[0]))\n",
    "\n",
    "    pbar = range(evolution_steps)\n",
    "    if use_tqdm:\n",
    "        pbar = tqdm(pbar)\n",
    "    for eval_steps in pbar:\n",
    "        # mutate\n",
    "        population = [\n",
    "            mutation(\n",
    "            gene, \n",
    "            graph, \n",
    "            needs, \n",
    "            capacity,\n",
    "            alpha=mutation_factor,\n",
    "            construct_loop = construct_loop,\n",
    "        ) for gene in population]\n",
    "        \n",
    "        # select\n",
    "        population, fit = sampling_selection(\n",
    "            graph,\n",
    "            population,\n",
    "            sample_size=dieback_rate,\n",
    "            temperature = temperature,\n",
    "        )\n",
    "        if use_tqdm:\n",
    "            pbar.set_postfix_str(f\"best fit: {np.min(fit)}\")\n",
    "        # remember best solution\n",
    "        if best_solution[1] > fit.min():\n",
    "            fit_min = np.argmin(fit)\n",
    "            best_solution = (population[fit_min], fit[fit_min]) \n",
    "\n",
    "        # cross over\n",
    "        population = cross_population(\n",
    "            graph,\n",
    "            population,\n",
    "            population_size,\n",
    "            fit,\n",
    "            dimension,\n",
    "            capacity,\n",
    "            needs,\n",
    "            temperature = temperature,\n",
    "            construct_loop = construct_loop,\n",
    "            cross_function = crossingover,\n",
    "        )\n",
    "\n",
    "    return best_solution\n",
    "\n",
    "calc_best_solution(\n",
    "    data_path = \"data/E/E-n23-k3.vrp\",\n",
    "    population_size = 200,\n",
    "    evolution_steps = 15,\n",
    "    mutation_factor = 0.2,\n",
    "    dieback_rate = 0.8,\n",
    "    temperature = 0.2,\n",
    "    crossingover = random_crossingover,\n",
    "    construct_loop = random_construct_loop,\n",
    "    mutation = random_mutation,\n",
    "    use_tqdm=True,\n",
    ")"
   ]
  },
  {
   "cell_type": "code",
   "execution_count": 197,
   "metadata": {},
   "outputs": [
    {
     "name": "stderr",
     "output_type": "stream",
     "text": [
      "100%|██████████| 63/63 [07:31<00:00,  7.16s/it, data/E/E-n23-k3.vrp]  \n"
     ]
    }
   ],
   "source": [
    "from pathlib import Path\n",
    "\n",
    "def dump_solution(solution, score, file_name):\n",
    "    # Route #1: 21 31 19 17 13 7 26\n",
    "    # Route #2: 12 1 16 30\n",
    "    # Route #3: 27 24\n",
    "    # Route #4: 29 18 8 9 22 15 10 25 5 20\n",
    "    # Route #5: 14 28 11 4 23 3 2 6\n",
    "    # Cost 784\n",
    "\n",
    "    file_lines = []\n",
    "    for idx, sol in enumerate(solution):\n",
    "        file_lines.append(f'Route #{idx + 1}: {\" \".join(map(str, sol))}\\n')\n",
    "    file_lines.append(f\"Cost {int(score)}\")\n",
    "    with open(file_name, \"w\") as f:\n",
    "        f.writelines(file_lines)\n",
    "\n",
    "pbar = tqdm(Path(\"data/\").rglob(\"*.vrp\"), total = len(list(Path(\"data/\").rglob(\"*.vrp\"))))\n",
    "for file_vrp in pbar:\n",
    "    pbar.set_postfix_str(str(file_vrp))\n",
    "    if not file_vrp.with_suffix(\".msol\").exists():\n",
    "        try:\n",
    "            # Возможно формат некоторых E файлов не подойдет для парсинга\n",
    "            solution, score = calc_best_solution(\n",
    "                data_path = str(file_vrp),\n",
    "                population_size = 200,\n",
    "                evolution_steps = 15,\n",
    "                mutation_factor = 0.2,\n",
    "                dieback_rate = 0.8,\n",
    "                temperature = 0.2,\n",
    "                crossingover = random_crossingover,\n",
    "                construct_loop = random_construct_loop,\n",
    "                mutation = random_mutation,\n",
    "            )\n",
    "            dump_solution(solution, score, file_vrp.with_suffix(\".msol\"))\n",
    "        except:\n",
    "            continue"
   ]
  },
  {
   "cell_type": "markdown",
   "metadata": {},
   "source": [
    "### Анализ"
   ]
  },
  {
   "cell_type": "markdown",
   "metadata": {},
   "source": [
    "#### Посчитаем разницу времени исполнения"
   ]
  },
  {
   "cell_type": "code",
   "execution_count": 198,
   "metadata": {},
   "outputs": [
    {
     "name": "stderr",
     "output_type": "stream",
     "text": [
      "100%|██████████| 15/15 [00:27<00:00,  1.84s/it, best fit: 1865.3804720126209]\n"
     ]
    },
    {
     "data": {
      "text/plain": [
       "([array([67, 60, 83,  8, 36, 46, 45, 17, 84, 16, 61]),\n",
       "  array([39, 44, 98, 93,  5,  6]),\n",
       "  array([25, 54, 12, 76, 81, 35, 34]),\n",
       "  array([30, 65,  9, 78, 24, 56, 22, 53]),\n",
       "  array([ 7, 19, 47, 82, 99, 59, 40]),\n",
       "  array([85, 37, 97, 87, 13]),\n",
       "  array([ 50,  51,  79,  77,  21,  73, 100,  96]),\n",
       "  array([69, 72, 57, 42, 15, 43, 38, 91, 92, 31]),\n",
       "  array([86, 14, 41, 23, 74,  2]),\n",
       "  array([62, 10, 66, 80, 75, 95]),\n",
       "  array([26,  4, 55, 68,  3]),\n",
       "  array([28, 27, 63, 64, 49, 94]),\n",
       "  array([89, 11, 90, 32, 70,  1, 33, 58]),\n",
       "  array([29, 71, 20, 88, 48, 18, 52])],\n",
       " 1859.866999536081)"
      ]
     },
     "execution_count": 198,
     "metadata": {},
     "output_type": "execute_result"
    }
   ],
   "source": [
    "calc_best_solution(\n",
    "    data_path = \"data/E/E-n101-k14.vrp\",\n",
    "    population_size = 200,\n",
    "    evolution_steps = 15,\n",
    "    mutation_factor = 0.2,\n",
    "    dieback_rate = 0.8,\n",
    "    temperature = 0.2,\n",
    "    crossingover = random_crossingover,\n",
    "    construct_loop = random_construct_loop,\n",
    "    mutation = random_mutation,\n",
    "    use_tqdm=True,\n",
    ")"
   ]
  },
  {
   "cell_type": "code",
   "execution_count": 199,
   "metadata": {},
   "outputs": [
    {
     "name": "stderr",
     "output_type": "stream",
     "text": [
      "100%|██████████| 15/15 [00:04<00:00,  3.17it/s, best fit: 435.4796275290968]\n"
     ]
    },
    {
     "data": {
      "text/plain": [
       "([array([14, 17, 21, 19, 13]),\n",
       "  array([16, 20, 18, 15]),\n",
       "  array([ 2,  1,  3,  4,  8, 11]),\n",
       "  array([10,  6,  5,  7,  9, 12])],\n",
       " 404.1839155552904)"
      ]
     },
     "execution_count": 199,
     "metadata": {},
     "output_type": "execute_result"
    }
   ],
   "source": [
    "calc_best_solution(\n",
    "    data_path = \"data/E/E-n22-k4.vrp\",\n",
    "    population_size = 200,\n",
    "    evolution_steps = 15,\n",
    "    mutation_factor = 0.2,\n",
    "    dieback_rate = 0.8,\n",
    "    temperature = 0.2,\n",
    "    crossingover = random_crossingover,\n",
    "    construct_loop = random_construct_loop,\n",
    "    mutation = random_mutation,\n",
    "    use_tqdm=True,\n",
    ")"
   ]
  },
  {
   "cell_type": "code",
   "execution_count": 207,
   "metadata": {},
   "outputs": [
    {
     "name": "stderr",
     "output_type": "stream",
     "text": [
      "100%|██████████| 15/15 [00:29<00:00,  1.98s/it, best fit: 2183.7034685637395]\n"
     ]
    },
    {
     "data": {
      "text/plain": [
       "([array([52, 47, 27, 63, 55, 74, 28]),\n",
       "  array([ 9, 39, 54, 20, 31, 32, 51, 58,  1]),\n",
       "  array([25, 66, 60, 41, 48, 30, 37, 75, 15, 22]),\n",
       "  array([44, 71, 46, 45, 57, 49]),\n",
       "  array([34, 73, 29, 61, 50,  6, 18]),\n",
       "  array([ 2,  3, 76, 12, 69]),\n",
       "  array([40, 10, 14, 36, 59, 35,  4, 62]),\n",
       "  array([17, 24, 21, 56, 65,  7, 33, 13, 19, 42, 11, 77]),\n",
       "  array([ 8, 70,  5, 16, 68, 26, 67]),\n",
       "  array([23, 64, 53, 72, 38, 43])],\n",
       " 2131.45595197623)"
      ]
     },
     "execution_count": 207,
     "metadata": {},
     "output_type": "execute_result"
    }
   ],
   "source": [
    "calc_best_solution(\n",
    "    data_path = \"data/B/B-n78-k10.vrp\",\n",
    "    population_size = 200,\n",
    "    evolution_steps = 15,\n",
    "    mutation_factor = 0.2,\n",
    "    dieback_rate = 0.8,\n",
    "    temperature = 0.2,\n",
    "    crossingover = random_crossingover,\n",
    "    construct_loop = random_construct_loop,\n",
    "    mutation = random_mutation,\n",
    "    use_tqdm=True,\n",
    ")"
   ]
  },
  {
   "cell_type": "code",
   "execution_count": 208,
   "metadata": {},
   "outputs": [
    {
     "name": "stderr",
     "output_type": "stream",
     "text": [
      "100%|██████████| 15/15 [00:10<00:00,  1.39it/s, best fit: 719.2490225541349]\n"
     ]
    },
    {
     "data": {
      "text/plain": [
       "([array([29,  6, 13,  8,  2, 10, 27, 20]),\n",
       "  array([ 9,  1, 19, 24, 15, 14, 11]),\n",
       "  array([16, 18,  5, 21]),\n",
       "  array([12, 23, 30, 26, 28]),\n",
       "  array([ 4, 22,  7, 17,  3, 25])],\n",
       " 719.1191008813632)"
      ]
     },
     "execution_count": 208,
     "metadata": {},
     "output_type": "execute_result"
    }
   ],
   "source": [
    "calc_best_solution(\n",
    "    data_path = \"data/B/B-n31-k5.vrp\",\n",
    "    population_size = 200,\n",
    "    evolution_steps = 15,\n",
    "    mutation_factor = 0.2,\n",
    "    dieback_rate = 0.8,\n",
    "    temperature = 0.2,\n",
    "    crossingover = random_crossingover,\n",
    "    construct_loop = random_construct_loop,\n",
    "    mutation = random_mutation,\n",
    "    use_tqdm=True,\n",
    ")"
   ]
  },
  {
   "cell_type": "code",
   "execution_count": 209,
   "metadata": {},
   "outputs": [
    {
     "name": "stderr",
     "output_type": "stream",
     "text": [
      "100%|██████████| 15/15 [00:31<00:00,  2.11s/it, best fit: 2716.4560687426138]\n"
     ]
    },
    {
     "data": {
      "text/plain": [
       "([array([24, 68, 16, 43,  8, 48, 52,  7, 21, 40]),\n",
       "  array([49, 73, 38, 58, 54, 62, 71, 14, 10]),\n",
       "  array([77,  6, 78, 27, 29,  3, 66, 42]),\n",
       "  array([50, 45, 22, 32, 36, 64, 60]),\n",
       "  array([59, 20, 26, 19, 46, 74, 12]),\n",
       "  array([13, 44, 39, 33,  9, 53]),\n",
       "  array([72,  4, 55, 69, 65, 35, 37, 18, 34, 30, 31, 67, 70]),\n",
       "  array([76, 41, 75, 61,  5,  1]),\n",
       "  array([63, 23,  2, 47, 56, 15, 25, 51]),\n",
       "  array([79, 28, 11, 17, 57])],\n",
       " 2716.4560687426138)"
      ]
     },
     "execution_count": 209,
     "metadata": {},
     "output_type": "execute_result"
    }
   ],
   "source": [
    "calc_best_solution(\n",
    "    data_path = \"data/A/A-n80-k10.vrp\",\n",
    "    population_size = 200,\n",
    "    evolution_steps = 15,\n",
    "    mutation_factor = 0.2,\n",
    "    dieback_rate = 0.8,\n",
    "    temperature = 0.2,\n",
    "    crossingover = random_crossingover,\n",
    "    construct_loop = random_construct_loop,\n",
    "    mutation = random_mutation,\n",
    "    use_tqdm=True,\n",
    ")"
   ]
  },
  {
   "cell_type": "code",
   "execution_count": 210,
   "metadata": {},
   "outputs": [
    {
     "name": "stderr",
     "output_type": "stream",
     "text": [
      "100%|██████████| 15/15 [00:11<00:00,  1.28it/s, best fit: 1071.298614413866] \n"
     ]
    },
    {
     "data": {
      "text/plain": [
       "([array([17, 19, 31, 12, 30]),\n",
       "  array([26, 14, 24, 27]),\n",
       "  array([16,  7, 28, 18,  9, 15, 29, 20]),\n",
       "  array([ 8, 11, 23,  6, 13, 21,  1]),\n",
       "  array([ 3,  2,  4, 22, 10, 25,  5])],\n",
       " 1056.6659040413006)"
      ]
     },
     "execution_count": 210,
     "metadata": {},
     "output_type": "execute_result"
    }
   ],
   "source": [
    "calc_best_solution(\n",
    "    data_path = \"data/A/A-n32-k5.vrp\",\n",
    "    population_size = 200,\n",
    "    evolution_steps = 15,\n",
    "    mutation_factor = 0.2,\n",
    "    dieback_rate = 0.8,\n",
    "    temperature = 0.2,\n",
    "    crossingover = random_crossingover,\n",
    "    construct_loop = random_construct_loop,\n",
    "    mutation = random_mutation,\n",
    "    use_tqdm=True,\n",
    ")"
   ]
  },
  {
   "cell_type": "code",
   "execution_count": 29,
   "metadata": {},
   "outputs": [],
   "source": [
    "import pandas as pd\n",
    "import numpy as np\n",
    "from pathlib import Path\n",
    "from tqdm import tqdm\n",
    "\n",
    "def load_results(results_file):\n",
    "    with open(results_file, \"r\") as f:\n",
    "        lines = f.readlines()\n",
    "        cost = int(lines[-1].split(\" \")[1])\n",
    "        # solution = [np.array(list(map(int, ln.split(\": \")[1].split(\" \")))) for ln in lines[:-1]]\n",
    "    return cost"
   ]
  },
  {
   "cell_type": "code",
   "execution_count": 30,
   "metadata": {},
   "outputs": [
    {
     "name": "stderr",
     "output_type": "stream",
     "text": [
      "100%|██████████| 61/61 [00:00<00:00, 16804.76it/s]\n"
     ]
    },
    {
     "data": {
      "text/html": [
       "<div>\n",
       "<style scoped>\n",
       "    .dataframe tbody tr th:only-of-type {\n",
       "        vertical-align: middle;\n",
       "    }\n",
       "\n",
       "    .dataframe tbody tr th {\n",
       "        vertical-align: top;\n",
       "    }\n",
       "\n",
       "    .dataframe thead th {\n",
       "        text-align: right;\n",
       "    }\n",
       "</style>\n",
       "<table border=\"1\" class=\"dataframe\">\n",
       "  <thead>\n",
       "    <tr style=\"text-align: right;\">\n",
       "      <th></th>\n",
       "      <th>our_sol</th>\n",
       "      <th>sol</th>\n",
       "    </tr>\n",
       "  </thead>\n",
       "  <tbody>\n",
       "    <tr>\n",
       "      <th>B-n45-k5</th>\n",
       "      <td>1146</td>\n",
       "      <td>751</td>\n",
       "    </tr>\n",
       "    <tr>\n",
       "      <th>B-n44-k7</th>\n",
       "      <td>1203</td>\n",
       "      <td>909</td>\n",
       "    </tr>\n",
       "    <tr>\n",
       "      <th>B-n45-k6</th>\n",
       "      <td>929</td>\n",
       "      <td>678</td>\n",
       "    </tr>\n",
       "    <tr>\n",
       "      <th>B-n43-k6</th>\n",
       "      <td>971</td>\n",
       "      <td>742</td>\n",
       "    </tr>\n",
       "    <tr>\n",
       "      <th>B-n35-k5</th>\n",
       "      <td>1200</td>\n",
       "      <td>955</td>\n",
       "    </tr>\n",
       "  </tbody>\n",
       "</table>\n",
       "</div>"
      ],
      "text/plain": [
       "          our_sol  sol\n",
       "B-n45-k5     1146  751\n",
       "B-n44-k7     1203  909\n",
       "B-n45-k6      929  678\n",
       "B-n43-k6      971  742\n",
       "B-n35-k5     1200  955"
      ]
     },
     "execution_count": 30,
     "metadata": {},
     "output_type": "execute_result"
    }
   ],
   "source": [
    "pbar = tqdm(Path(\"data/\").rglob(\"*.msol\"), total = len(list(Path(\"data/\").rglob(\"*.msol\"))))\n",
    "agg_results = []\n",
    "index = []\n",
    "for file_vrp in pbar:\n",
    "    agg_results.append({\n",
    "        \"our_sol\": load_results(file_vrp),\n",
    "        \"sol\": load_results(file_vrp.with_suffix(\".sol\")),\n",
    "    })\n",
    "    index.append(file_vrp.stem)\n",
    "\n",
    "agg_results = pd.DataFrame(agg_results, index=index)\n",
    "agg_results.head()"
   ]
  },
  {
   "cell_type": "code",
   "execution_count": 33,
   "metadata": {},
   "outputs": [
    {
     "name": "stdout",
     "output_type": "stream",
     "text": [
      "A\n",
      "count     27.000000\n",
      "mean     426.555556\n",
      "std      186.657097\n",
      "min      166.000000\n",
      "25%      271.500000\n",
      "50%      380.000000\n",
      "75%      581.000000\n",
      "max      837.000000\n",
      "dtype: float64\n",
      "B\n",
      "count     23.000000\n",
      "mean     410.000000\n",
      "std      202.084366\n",
      "min       80.000000\n",
      "25%      272.500000\n",
      "50%      395.000000\n",
      "75%      524.500000\n",
      "max      958.000000\n",
      "dtype: float64\n",
      "E\n",
      "count     11.000000\n",
      "mean     349.909091\n",
      "std      244.711444\n",
      "min       38.000000\n",
      "25%      106.500000\n",
      "50%      470.000000\n",
      "75%      547.500000\n",
      "max      719.000000\n",
      "dtype: float64\n"
     ]
    }
   ],
   "source": [
    "diff = np.abs(agg_results[\"our_sol\"] - agg_results[\"sol\"])\n",
    "\n",
    "for letter in [\"A\", \"B\", \"E\"]:\n",
    "    print(letter)\n",
    "    print(diff[diff.index.str.startswith(letter)].describe())"
   ]
  },
  {
   "cell_type": "code",
   "execution_count": null,
   "metadata": {},
   "outputs": [],
   "source": []
  }
 ],
 "metadata": {
  "kernelspec": {
   "display_name": "venv",
   "language": "python",
   "name": "python3"
  },
  "language_info": {
   "codemirror_mode": {
    "name": "ipython",
    "version": 3
   },
   "file_extension": ".py",
   "mimetype": "text/x-python",
   "name": "python",
   "nbconvert_exporter": "python",
   "pygments_lexer": "ipython3",
   "version": "3.10.12"
  }
 },
 "nbformat": 4,
 "nbformat_minor": 2
}
